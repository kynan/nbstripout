{
 "cells": [
  {
   "cell_type": "markdown",
   "metadata": {},
   "source": [
    "This notebook tests that output is stripped unless the cell has a `keep_output` tag in its metadata"
   ]
  },
  {
   "cell_type": "code",
   "execution_count": 1,
   "metadata": {
    "ExecuteTime": {
     "end_time": "2020-03-15T03:18:30.324432Z",
     "start_time": "2020-03-15T03:18:30.313427Z"
    }
   },
   "outputs": [
    {
     "name": "stdout",
     "output_type": "stream",
     "text": [
      "This cell should have no output, because it does not have keep_output in its metadata (top level) or its tags\n"
     ]
    }
   ],
   "source": [
    "# no_output\n",
    "print('''This cell should have no output, because it does not have keep_output in its metadata (top level) or its tags''')"
   ]
  },
  {
   "cell_type": "code",
   "execution_count": 2,
   "metadata": {
    "ExecuteTime": {
     "end_time": "2020-03-15T03:18:30.381986Z",
     "start_time": "2020-03-15T03:18:30.329424Z"
    },
    "tags": [
     "keep_output"
    ]
   },
   "outputs": [
    {
     "name": "stdout",
     "output_type": "stream",
     "text": [
      "This cell has keep_output in its tags metadata\n"
     ]
    }
   ],
   "source": [
    "# output\n",
    "print('''This cell has keep_output in its tags metadata''')"
   ]
  },
  {
   "cell_type": "code",
   "execution_count": 3,
   "metadata": {
    "ExecuteTime": {
     "end_time": "2020-03-15T03:18:30.393917Z",
     "start_time": "2020-03-15T03:18:30.386910Z"
    },
    "keep_output": true
   },
   "outputs": [
    {
     "name": "stdout",
     "output_type": "stream",
     "text": [
      "This cell has \"keep_output\": true in it's metadata but not in its tags\n"
     ]
    }
   ],
   "source": [
    "# output\n",
    "print('''This cell has \"keep_output\": true in it's metadata but not in its tags''')"
   ]
  }
 ],
 "metadata": {
  "celltoolbar": "Edit Metadata",
  "kernelspec": {
   "display_name": "local",
   "language": "python",
   "name": "local"
  },
  "language_info": {
   "codemirror_mode": {
    "name": "ipython",
    "version": 3
   },
   "file_extension": ".py",
   "mimetype": "text/x-python",
   "name": "python",
   "nbconvert_exporter": "python",
   "pygments_lexer": "ipython3",
   "version": "3.7.4"
  }
 },
 "nbformat": 4,
 "nbformat_minor": 2
}
